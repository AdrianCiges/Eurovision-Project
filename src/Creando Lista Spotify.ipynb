{
 "cells": [
  {
   "cell_type": "code",
   "execution_count": 3,
   "id": "99895388",
   "metadata": {
    "scrolled": true
   },
   "outputs": [],
   "source": [
    "# !pip install spotipy"
   ]
  },
  {
   "cell_type": "code",
   "execution_count": 2,
   "id": "30fdd6a1",
   "metadata": {},
   "outputs": [],
   "source": [
    "import requests\n",
    "# Token caduca cada hora. Necesito generarlo: https://developer.spotify.com/console/post-playlists/?user_id=&body=%7B%22name%22%3A%22New%20Playlist%22%2C%22description%22%3A%22New%20playlist%20description%22%2C%22public%22%3Afalse%7D\n",
    "token = \"BQA9RR_cPUvtml-KrHxfnaoUvBc5kXCGd2g5ao8NCKp-aP4h4MVh7B1ORcE3h34BCwH3ZyBMdswY7nYysTa278k3IOZTptolzkJXazobqtudhcfamJGY-gPBNnpdS2PzZFgvPv5VqaoUgkvz1OHPJq0qZVIJYzen97Qa89ezwGPLu0-CcyWtsm3ihxbowrk_SjRF6EidbgtI32NpgKSfwBPHJFsazCL0uuG3OxhP-lnsViLBPKwiRVoe8zbDGNbNg3g\"\n",
    "headers = {\n",
    "    \"Accept\" : \"application/json\",\n",
    "    \"Content-Type\" : \"application/json\",\n",
    "    \"Authorization\" : f\"Bearer {token}\"\n",
    "    }\n",
    "params = {\n",
    "    \n",
    "    \"position\" : \"0\",\n",
    "    \"uris\" : \"spotify:track:5AnPNGsEt7cOjSGmBDq8e2,spotify:track:5AnPNGsEt7cOjSGmBDq8e2,spotify:track:5AnPNGsEt7cOjSGmBDq8e2\", # La uri de la canción (canciones)\n",
    "    \n",
    "}\n",
    "playlist_id = \"0FNPhJSRpD4mdq0gDEDVWf\" # Ahora mismo Prueba1, pero cambiará\n",
    "\n",
    "response = requests.post(f\"https://api.spotify.com/v1/playlists/{playlist_id}/tracks\", headers=headers, params=params)"
   ]
  },
  {
   "cell_type": "code",
   "execution_count": null,
   "id": "4d0e8a00",
   "metadata": {},
   "outputs": [],
   "source": []
  },
  {
   "cell_type": "code",
   "execution_count": null,
   "id": "fcf4f38c",
   "metadata": {},
   "outputs": [],
   "source": []
  },
  {
   "cell_type": "code",
   "execution_count": null,
   "id": "88a7c125",
   "metadata": {},
   "outputs": [],
   "source": []
  },
  {
   "cell_type": "code",
   "execution_count": null,
   "id": "fe3a9966",
   "metadata": {},
   "outputs": [],
   "source": []
  },
  {
   "cell_type": "code",
   "execution_count": null,
   "id": "d34da5da",
   "metadata": {},
   "outputs": [],
   "source": []
  },
  {
   "cell_type": "code",
   "execution_count": null,
   "id": "bbf9c7c6",
   "metadata": {},
   "outputs": [],
   "source": []
  }
 ],
 "metadata": {
  "kernelspec": {
   "display_name": "Python 3 (ipykernel)",
   "language": "python",
   "name": "python3"
  },
  "language_info": {
   "codemirror_mode": {
    "name": "ipython",
    "version": 3
   },
   "file_extension": ".py",
   "mimetype": "text/x-python",
   "name": "python",
   "nbconvert_exporter": "python",
   "pygments_lexer": "ipython3",
   "version": "3.9.12"
  }
 },
 "nbformat": 4,
 "nbformat_minor": 5
}
